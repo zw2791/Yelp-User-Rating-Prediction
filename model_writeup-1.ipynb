{
 "cells": [
  {
   "cell_type": "code",
   "execution_count": 1,
   "metadata": {},
   "outputs": [
    {
     "name": "stderr",
     "output_type": "stream",
     "text": [
      "Using TensorFlow backend.\n"
     ]
    }
   ],
   "source": [
    "import pandas as pd\n",
    "import keras\n",
    "import numpy as np\n",
    "from scipy.sparse import hstack\n"
   ]
  },
  {
   "cell_type": "code",
   "execution_count": 2,
   "metadata": {},
   "outputs": [],
   "source": [
    "import os\n",
    "os.environ[\"CUDA_VISIBLE_DEVICES\"] =\"1\""
   ]
  },
  {
   "cell_type": "code",
   "execution_count": 29,
   "metadata": {},
   "outputs": [],
   "source": [
    "#!python -m pytest --benchmark-only"
   ]
  },
  {
   "cell_type": "code",
   "execution_count": 4,
   "metadata": {},
   "outputs": [],
   "source": [
    "import tensorflow as tf\n",
    "from keras import layers"
   ]
  },
  {
   "cell_type": "code",
   "execution_count": 5,
   "metadata": {},
   "outputs": [],
   "source": [
    "from sklearn.feature_extraction.text import CountVectorizer,TfidfTransformer,TfidfVectorizer\n",
    "vectorizer = CountVectorizer(ngram_range=(2, 2), max_features=30,stop_words='english',lowercase=True)\n",
    "#vectorizer = CountVectorizer(max_features=200,stop_words='english',lowercase=True)"
   ]
  },
  {
   "cell_type": "code",
   "execution_count": 4,
   "metadata": {},
   "outputs": [],
   "source": [
    "data = pd.read_csv('corpus.csv')\n",
    "from sklearn.preprocessing import MinMaxScaler\n",
    "pos_scaler = MinMaxScaler()\n",
    "neg_scaler = MinMaxScaler()\n",
    "data['pos_scaled'] = pos_scaler.fit_transform(data[['pos']] )\n",
    "data['neg_scaled'] = pos_scaler.fit_transform(data[['neg']] )"
   ]
  },
  {
   "cell_type": "code",
   "execution_count": 8,
   "metadata": {},
   "outputs": [],
   "source": [
    "stopwords = [i for i in stopwords.words('english')]"
   ]
  },
  {
   "cell_type": "code",
   "execution_count": 9,
   "metadata": {},
   "outputs": [],
   "source": [
    "import re\n",
    "data['text']= [i.lower()  for i in data['text'] if i not in stopwords]\n",
    "data['text'] = data['text'].apply((lambda c: re.sub('[^a-zA-z0-9\\s]','',c)))"
   ]
  },
  {
   "cell_type": "code",
   "execution_count": 10,
   "metadata": {},
   "outputs": [],
   "source": [
    "vectorizer.fit(data['text'])\n",
    "X = vectorizer.fit_transform(data['text'])\n",
    "X = hstack((X,np.array(data['pos_scaled'])[:,None]))\n",
    "X = hstack((X,np.array(data['neg_scaled'])[:,None]))\n",
    "X = X.todense()"
   ]
  },
  {
   "cell_type": "code",
   "execution_count": 11,
   "metadata": {},
   "outputs": [],
   "source": [
    "#Tokenizers\n",
    "from keras.preprocessing.text import Tokenizer\n",
    "from keras.preprocessing.sequence import pad_sequences\n",
    "texts=data['text']\n",
    "tokenizer = Tokenizer(num_words=None) \n",
    "tokenizer.fit_on_texts(texts)\n",
    "#print( tokenizer.texts_to_sequences(texts)) \n",
    "#print( tokenizer.texts_to_matrix(texts))  "
   ]
  },
  {
   "cell_type": "code",
   "execution_count": 12,
   "metadata": {},
   "outputs": [],
   "source": [
    "max_document_length=200\n",
    "tokenizer = Tokenizer(num_words=200,filters='!\"#$%&()*+,-./:;<=>?@[\\\\]^_`{|}~\\t\\n',\n",
    "                                   lower=True,split=' ')\n",
    "tokenizer.fit_on_texts(texts)\n",
    "sequences = tokenizer.texts_to_sequences(texts.values)\n",
    " #截断补齐\n",
    "x=pad_sequences(sequences, maxlen=max_document_length)"
   ]
  },
  {
   "cell_type": "code",
   "execution_count": 13,
   "metadata": {},
   "outputs": [],
   "source": [
    "from keras.layers import Flatten\n",
    "def baseline_model():\n",
    "    model = Sequential()\n",
    "    model.add(Dense(32, input_dim=32, activation='relu'))\n",
    "    model.add(Dropout(0.2))\n",
    "    model.add(Dense(2, activation='softmax'))\n",
    "    # Compile model\n",
    "    model.compile(loss= 'categorical_crossentropy', optimizer='SGD', metrics=['accuracy'])\n",
    "    return model"
   ]
  },
  {
   "cell_type": "code",
   "execution_count": 14,
   "metadata": {},
   "outputs": [],
   "source": [
    "stars=data['stars_y'].apply(lambda x:0 if x<3 else 1)"
   ]
  },
  {
   "cell_type": "code",
   "execution_count": 15,
   "metadata": {},
   "outputs": [
    {
     "name": "stdout",
     "output_type": "stream",
     "text": [
      "Epoch 1/10\n",
      "25677/25677 [==============================] - 1s 50us/step - loss: 0.4934 - accuracy: 0.7544\n",
      "Epoch 2/10\n",
      "25677/25677 [==============================] - 1s 48us/step - loss: 0.3914 - accuracy: 0.8186\n",
      "Epoch 3/10\n",
      "25677/25677 [==============================] - 1s 47us/step - loss: 0.3416 - accuracy: 0.8519\n",
      "Epoch 4/10\n",
      "25677/25677 [==============================] - 1s 49us/step - loss: 0.3227 - accuracy: 0.8621\n",
      "Epoch 5/10\n",
      "25677/25677 [==============================] - 1s 48us/step - loss: 0.3141 - accuracy: 0.8654\n",
      "Epoch 6/10\n",
      "25677/25677 [==============================] - 1s 47us/step - loss: 0.3096 - accuracy: 0.8682\n",
      "Epoch 7/10\n",
      "25677/25677 [==============================] - 1s 48us/step - loss: 0.3061 - accuracy: 0.8675\n",
      "Epoch 8/10\n",
      "25677/25677 [==============================] - 1s 47us/step - loss: 0.3052 - accuracy: 0.8699\n",
      "Epoch 9/10\n",
      "25677/25677 [==============================] - 1s 47us/step - loss: 0.3026 - accuracy: 0.8705\n",
      "Epoch 10/10\n",
      "25677/25677 [==============================] - 1s 48us/step - loss: 0.3025 - accuracy: 0.8722\n",
      "25677/25677 [==============================] - 0s 18us/step\n",
      "Epoch 1/10\n",
      "25677/25677 [==============================] - 1s 49us/step - loss: 0.5260 - accuracy: 0.7405\n",
      "Epoch 2/10\n",
      "25677/25677 [==============================] - 1s 49us/step - loss: 0.4174 - accuracy: 0.7997\n",
      "Epoch 3/10\n",
      "25677/25677 [==============================] - 1s 51us/step - loss: 0.3588 - accuracy: 0.8425\n",
      "Epoch 4/10\n",
      "25677/25677 [==============================] - 1s 50us/step - loss: 0.3326 - accuracy: 0.8566\n",
      "Epoch 5/10\n",
      "25677/25677 [==============================] - 1s 50us/step - loss: 0.3229 - accuracy: 0.8620\n",
      "Epoch 6/10\n",
      "25677/25677 [==============================] - 1s 48us/step - loss: 0.3180 - accuracy: 0.8639\n",
      "Epoch 7/10\n",
      "25677/25677 [==============================] - 1s 50us/step - loss: 0.3159 - accuracy: 0.8657\n",
      "Epoch 8/10\n",
      "25677/25677 [==============================] - 1s 48us/step - loss: 0.3135 - accuracy: 0.8671\n",
      "Epoch 9/10\n",
      "25677/25677 [==============================] - 1s 49us/step - loss: 0.3096 - accuracy: 0.8672\n",
      "Epoch 10/10\n",
      "25677/25677 [==============================] - 1s 51us/step - loss: 0.3100 - accuracy: 0.8693\n",
      "25677/25677 [==============================] - 0s 19us/step\n",
      "f1_micro: 0.872 (+/- 0.003)\n"
     ]
    }
   ],
   "source": [
    "import keras\n",
    "from keras.models import Sequential\n",
    "from keras.layers import Dense, Dropout, Activation,LSTM,Embedding\n",
    "from keras.optimizers import SGD\n",
    "from sklearn.model_selection import StratifiedKFold, cross_val_score\n",
    "from keras.wrappers.scikit_learn import KerasClassifier\n",
    "clf = KerasClassifier(build_fn=baseline_model, epochs=10, batch_size=12, verbose=1)\n",
    "#使用5折交叉验证\n",
    "scores = cross_val_score(clf, X, stars, cv=2, scoring='f1_micro')\n",
    "# print scores\n",
    "print(\"f1_micro: %0.3f (+/- %0.3f)\" % (scores.mean(), scores.std() * 2))"
   ]
  },
  {
   "cell_type": "code",
   "execution_count": 16,
   "metadata": {},
   "outputs": [],
   "source": [
    "from keras.layers import Softmax\n",
    "def lstm_mdl():\n",
    "    model = Sequential()\n",
    "    model.add(Embedding(128, 128,input_length = X.shape[1]))\n",
    "    model.add(LSTM(128, recurrent_dropout=0.2,dropout = 0.2))\n",
    "    model.add(Dense(2,activation='softmax'))\n",
    "    model.compile(loss = 'categorical_crossentropy', optimizer='adam',metrics = ['accuracy'])\n",
    "    print(model.summary())\n",
    "    return model\n"
   ]
  },
  {
   "cell_type": "code",
   "execution_count": 17,
   "metadata": {},
   "outputs": [
    {
     "data": {
      "text/plain": [
       "(51354, 32)"
      ]
     },
     "execution_count": 17,
     "metadata": {},
     "output_type": "execute_result"
    }
   ],
   "source": [
    "X.shape"
   ]
  },
  {
   "cell_type": "code",
   "execution_count": 18,
   "metadata": {},
   "outputs": [
    {
     "data": {
      "text/plain": [
       "(51354,)"
      ]
     },
     "execution_count": 18,
     "metadata": {},
     "output_type": "execute_result"
    }
   ],
   "source": [
    "stars.shape"
   ]
  },
  {
   "cell_type": "code",
   "execution_count": 19,
   "metadata": {},
   "outputs": [
    {
     "name": "stdout",
     "output_type": "stream",
     "text": [
      "Model: \"sequential_3\"\n",
      "_________________________________________________________________\n",
      "Layer (type)                 Output Shape              Param #   \n",
      "=================================================================\n",
      "embedding_1 (Embedding)      (None, 32, 128)           16384     \n",
      "_________________________________________________________________\n",
      "lstm_1 (LSTM)                (None, 128)               131584    \n",
      "_________________________________________________________________\n",
      "dense_5 (Dense)              (None, 2)                 258       \n",
      "=================================================================\n",
      "Total params: 148,226\n",
      "Trainable params: 148,226\n",
      "Non-trainable params: 0\n",
      "_________________________________________________________________\n",
      "None\n",
      "Epoch 1/10\n",
      "41083/41083 [==============================] - 16s 390us/step - loss: 0.5583 - accuracy: 0.7476\n",
      "Epoch 2/10\n",
      "41083/41083 [==============================] - 16s 379us/step - loss: 0.5470 - accuracy: 0.7476\n",
      "Epoch 3/10\n",
      "41083/41083 [==============================] - 16s 378us/step - loss: 0.5441 - accuracy: 0.7478\n",
      "Epoch 4/10\n",
      "41083/41083 [==============================] - 16s 378us/step - loss: 0.5414 - accuracy: 0.7489\n",
      "Epoch 5/10\n",
      "41083/41083 [==============================] - 16s 378us/step - loss: 0.5369 - accuracy: 0.7530\n",
      "Epoch 6/10\n",
      "41083/41083 [==============================] - 15s 377us/step - loss: 0.5354 - accuracy: 0.7533\n",
      "Epoch 7/10\n",
      "41083/41083 [==============================] - 16s 384us/step - loss: 0.5349 - accuracy: 0.7533\n",
      "Epoch 8/10\n",
      "41083/41083 [==============================] - 15s 371us/step - loss: 0.5340 - accuracy: 0.7530\n",
      "Epoch 9/10\n",
      "41083/41083 [==============================] - 15s 372us/step - loss: 0.5332 - accuracy: 0.7536\n",
      "Epoch 10/10\n",
      "41083/41083 [==============================] - 15s 372us/step - loss: 0.5324 - accuracy: 0.7535\n",
      "10271/10271 [==============================] - 1s 118us/step\n",
      "Model: \"sequential_4\"\n",
      "_________________________________________________________________\n",
      "Layer (type)                 Output Shape              Param #   \n",
      "=================================================================\n",
      "embedding_2 (Embedding)      (None, 32, 128)           16384     \n",
      "_________________________________________________________________\n",
      "lstm_2 (LSTM)                (None, 128)               131584    \n",
      "_________________________________________________________________\n",
      "dense_6 (Dense)              (None, 2)                 258       \n",
      "=================================================================\n",
      "Total params: 148,226\n",
      "Trainable params: 148,226\n",
      "Non-trainable params: 0\n",
      "_________________________________________________________________\n",
      "None\n",
      "Epoch 1/10\n",
      "41083/41083 [==============================] - 16s 378us/step - loss: 0.5567 - accuracy: 0.7498\n",
      "Epoch 2/10\n",
      "41083/41083 [==============================] - 15s 372us/step - loss: 0.5464 - accuracy: 0.7501\n",
      "Epoch 3/10\n",
      "41083/41083 [==============================] - 15s 372us/step - loss: 0.5417 - accuracy: 0.7496\n",
      "Epoch 4/10\n",
      "41083/41083 [==============================] - 15s 374us/step - loss: 0.5376 - accuracy: 0.7537\n",
      "Epoch 5/10\n",
      "41083/41083 [==============================] - 15s 371us/step - loss: 0.5352 - accuracy: 0.7546\n",
      "Epoch 6/10\n",
      "41083/41083 [==============================] - 15s 372us/step - loss: 0.5343 - accuracy: 0.7553\n",
      "Epoch 7/10\n",
      "41083/41083 [==============================] - 15s 372us/step - loss: 0.5338 - accuracy: 0.7553\n",
      "Epoch 8/10\n",
      "41083/41083 [==============================] - 15s 373us/step - loss: 0.5319 - accuracy: 0.7551\n",
      "Epoch 9/10\n",
      "41083/41083 [==============================] - 15s 374us/step - loss: 0.5321 - accuracy: 0.7551\n",
      "Epoch 10/10\n",
      "41083/41083 [==============================] - 15s 373us/step - loss: 0.5306 - accuracy: 0.7554\n",
      "10271/10271 [==============================] - 1s 119us/step\n",
      "Model: \"sequential_5\"\n",
      "_________________________________________________________________\n",
      "Layer (type)                 Output Shape              Param #   \n",
      "=================================================================\n",
      "embedding_3 (Embedding)      (None, 32, 128)           16384     \n",
      "_________________________________________________________________\n",
      "lstm_3 (LSTM)                (None, 128)               131584    \n",
      "_________________________________________________________________\n",
      "dense_7 (Dense)              (None, 2)                 258       \n",
      "=================================================================\n",
      "Total params: 148,226\n",
      "Trainable params: 148,226\n",
      "Non-trainable params: 0\n",
      "_________________________________________________________________\n",
      "None\n",
      "Epoch 1/10\n",
      "41083/41083 [==============================] - 16s 380us/step - loss: 0.5505 - accuracy: 0.7547\n",
      "Epoch 2/10\n",
      "41083/41083 [==============================] - 15s 374us/step - loss: 0.5397 - accuracy: 0.7540\n",
      "Epoch 3/10\n",
      "41083/41083 [==============================] - 15s 372us/step - loss: 0.5361 - accuracy: 0.7537\n",
      "Epoch 4/10\n",
      "41083/41083 [==============================] - 15s 373us/step - loss: 0.5307 - accuracy: 0.7579\n",
      "Epoch 5/10\n",
      "41083/41083 [==============================] - 15s 373us/step - loss: 0.5293 - accuracy: 0.7591\n",
      "Epoch 6/10\n",
      "41083/41083 [==============================] - 15s 373us/step - loss: 0.5277 - accuracy: 0.7593\n",
      "Epoch 7/10\n",
      "41083/41083 [==============================] - 15s 374us/step - loss: 0.5279 - accuracy: 0.7591\n",
      "Epoch 8/10\n",
      "41083/41083 [==============================] - 15s 373us/step - loss: 0.5274 - accuracy: 0.7589\n",
      "Epoch 9/10\n",
      "41083/41083 [==============================] - 15s 373us/step - loss: 0.5266 - accuracy: 0.7592\n",
      "Epoch 10/10\n",
      "41083/41083 [==============================] - 15s 374us/step - loss: 0.5257 - accuracy: 0.7591\n",
      "10271/10271 [==============================] - 1s 120us/step\n",
      "Model: \"sequential_6\"\n",
      "_________________________________________________________________\n",
      "Layer (type)                 Output Shape              Param #   \n",
      "=================================================================\n",
      "embedding_4 (Embedding)      (None, 32, 128)           16384     \n",
      "_________________________________________________________________\n",
      "lstm_4 (LSTM)                (None, 128)               131584    \n",
      "_________________________________________________________________\n",
      "dense_8 (Dense)              (None, 2)                 258       \n",
      "=================================================================\n",
      "Total params: 148,226\n",
      "Trainable params: 148,226\n",
      "Non-trainable params: 0\n",
      "_________________________________________________________________\n",
      "None\n",
      "Epoch 1/10\n",
      "41083/41083 [==============================] - 16s 380us/step - loss: 0.5569 - accuracy: 0.7498\n",
      "Epoch 2/10\n",
      "41083/41083 [==============================] - 15s 375us/step - loss: 0.5443 - accuracy: 0.7497\n",
      "Epoch 3/10\n",
      "41083/41083 [==============================] - 15s 375us/step - loss: 0.5417 - accuracy: 0.7489\n",
      "Epoch 4/10\n",
      "41083/41083 [==============================] - 15s 373us/step - loss: 0.5369 - accuracy: 0.7527\n",
      "Epoch 5/10\n",
      "41083/41083 [==============================] - 15s 373us/step - loss: 0.5336 - accuracy: 0.7546\n",
      "Epoch 6/10\n",
      "41083/41083 [==============================] - 15s 373us/step - loss: 0.5320 - accuracy: 0.7548\n",
      "Epoch 7/10\n",
      "41083/41083 [==============================] - 15s 374us/step - loss: 0.5315 - accuracy: 0.7549\n",
      "Epoch 8/10\n",
      "41083/41083 [==============================] - 15s 374us/step - loss: 0.5314 - accuracy: 0.7552\n",
      "Epoch 9/10\n",
      "41083/41083 [==============================] - 15s 373us/step - loss: 0.5303 - accuracy: 0.7551\n",
      "Epoch 10/10\n",
      "41083/41083 [==============================] - 15s 375us/step - loss: 0.5297 - accuracy: 0.7549\n",
      "10271/10271 [==============================] - 1s 118us/step\n",
      "Model: \"sequential_7\"\n",
      "_________________________________________________________________\n",
      "Layer (type)                 Output Shape              Param #   \n",
      "=================================================================\n",
      "embedding_5 (Embedding)      (None, 32, 128)           16384     \n",
      "_________________________________________________________________\n",
      "lstm_5 (LSTM)                (None, 128)               131584    \n",
      "_________________________________________________________________\n",
      "dense_9 (Dense)              (None, 2)                 258       \n",
      "=================================================================\n",
      "Total params: 148,226\n",
      "Trainable params: 148,226\n",
      "Non-trainable params: 0\n",
      "_________________________________________________________________\n",
      "None\n",
      "Epoch 1/10\n",
      "41084/41084 [==============================] - 16s 380us/step - loss: 0.5614 - accuracy: 0.7440\n",
      "Epoch 2/10\n",
      "41084/41084 [==============================] - 15s 373us/step - loss: 0.5513 - accuracy: 0.7435\n",
      "Epoch 3/10\n",
      "41084/41084 [==============================] - 15s 374us/step - loss: 0.5483 - accuracy: 0.7434\n",
      "Epoch 4/10\n",
      "41084/41084 [==============================] - 15s 373us/step - loss: 0.5438 - accuracy: 0.7463\n",
      "Epoch 5/10\n",
      "41084/41084 [==============================] - 15s 373us/step - loss: 0.5398 - accuracy: 0.7488\n",
      "Epoch 6/10\n",
      "41084/41084 [==============================] - 15s 375us/step - loss: 0.5386 - accuracy: 0.7495\n",
      "Epoch 7/10\n",
      "41084/41084 [==============================] - 15s 375us/step - loss: 0.5375 - accuracy: 0.7499\n",
      "Epoch 8/10\n",
      "41084/41084 [==============================] - 15s 374us/step - loss: 0.5368 - accuracy: 0.7497\n",
      "Epoch 9/10\n",
      "41084/41084 [==============================] - 15s 373us/step - loss: 0.5360 - accuracy: 0.7501\n",
      "Epoch 10/10\n",
      "41084/41084 [==============================] - 15s 375us/step - loss: 0.5364 - accuracy: 0.7500\n",
      "10270/10270 [==============================] - 1s 121us/step\n",
      "f1_micro: 0.76 (+/- 0.02)\n"
     ]
    }
   ],
   "source": [
    "clf_x = KerasClassifier(build_fn=lstm_mdl, epochs=10, batch_size=64, verbose=1)\n",
    "#使用5折交叉验证\n",
    "scores = cross_val_score(clf_x, X, stars, cv=5, scoring='f1_micro')\n",
    "print(\"f1_micro: %0.2f (+/- %0.2f)\" % (scores.mean(), scores.std() * 2))"
   ]
  },
  {
   "cell_type": "code",
   "execution_count": 20,
   "metadata": {},
   "outputs": [],
   "source": [
    "from sklearn.model_selection import train_test_split\n",
    "Xtr, Xva, Ytr, Yva = train_test_split(X, stars, test_size=0.33, random_state=42)"
   ]
  },
  {
   "cell_type": "code",
   "execution_count": 21,
   "metadata": {},
   "outputs": [
    {
     "data": {
      "text/plain": [
       "XGBClassifier(base_score=0.3, booster='gbtree', colsample_bylevel=1,\n",
       "              colsample_bynode=1, colsample_bytree=1, gamma=0,\n",
       "              learning_rate=0.1, max_delta_step=0, max_depth=3,\n",
       "              min_child_weight=1, missing=None, n_estimators=100, n_jobs=1,\n",
       "              nthread=None, objective='binary:logistic', random_state=0,\n",
       "              reg_alpha=0, reg_lambda=1, scale_pos_weight=1, seed=None,\n",
       "              silent=None, subsample=1, use_label_encoder=False, verbosity=1)"
      ]
     },
     "execution_count": 21,
     "metadata": {},
     "output_type": "execute_result"
    }
   ],
   "source": [
    "from xgboost import XGBRegressor,XGBClassifier\n",
    "from sklearn.metrics import accuracy_score,f1_score,precision_score,recall_score,confusion_matrix,plot_confusion_matrix\n",
    "base = XGBClassifier(use_label_encoder= False,base_score = 0.30)\n",
    "base.fit(Xtr,Ytr)"
   ]
  },
  {
   "cell_type": "code",
   "execution_count": 22,
   "metadata": {},
   "outputs": [
    {
     "name": "stdout",
     "output_type": "stream",
     "text": [
      "0.9102236668988468\n",
      "0.8725438130642592\n",
      "0.9216362354047488\n",
      "0.9158944007476053\n"
     ]
    }
   ],
   "source": [
    "print(recall_score(base.predict(Xva),Yva))\n",
    "print(accuracy_score(base.predict(Xva),Yva))\n",
    "print(precision_score(base.predict(Xva),Yva))\n",
    "print(f1_score(base.predict(Xva),Yva))"
   ]
  },
  {
   "cell_type": "code",
   "execution_count": 23,
   "metadata": {},
   "outputs": [],
   "source": [
    "from sklearn.linear_model import LogisticRegression\n",
    "lr = LogisticRegression(class_weight={0:1.4,1:1})"
   ]
  },
  {
   "cell_type": "code",
   "execution_count": 24,
   "metadata": {},
   "outputs": [
    {
     "data": {
      "text/plain": [
       "LogisticRegression(C=1.0, class_weight={0: 1.4, 1: 1}, dual=False,\n",
       "                   fit_intercept=True, intercept_scaling=1, l1_ratio=None,\n",
       "                   max_iter=100, multi_class='auto', n_jobs=None, penalty='l2',\n",
       "                   random_state=None, solver='lbfgs', tol=0.0001, verbose=0,\n",
       "                   warm_start=False)"
      ]
     },
     "execution_count": 24,
     "metadata": {},
     "output_type": "execute_result"
    }
   ],
   "source": [
    "lr.fit(Xtr,Ytr)"
   ]
  },
  {
   "cell_type": "code",
   "execution_count": 25,
   "metadata": {},
   "outputs": [
    {
     "name": "stdout",
     "output_type": "stream",
     "text": [
      "0.9186266771902131\n",
      "0.8729568655219213\n",
      "0.9120758561241282\n",
      "0.9153395462231136\n"
     ]
    }
   ],
   "source": [
    "print(recall_score(lr.predict(Xva),Yva))\n",
    "print(accuracy_score(lr.predict(Xva),Yva))\n",
    "print(precision_score(lr.predict(Xva),Yva))\n",
    "print(f1_score(lr.predict(Xva),Yva))"
   ]
  },
  {
   "cell_type": "code",
   "execution_count": null,
   "metadata": {},
   "outputs": [],
   "source": []
  },
  {
   "cell_type": "code",
   "execution_count": 26,
   "metadata": {},
   "outputs": [],
   "source": []
  },
  {
   "cell_type": "code",
   "execution_count": 27,
   "metadata": {},
   "outputs": [],
   "source": [
    "from keras.layers import Bidirectional\n",
    "def mdl_rnn_bidir():\n",
    "    model = Sequential()\n",
    "    model.add(Embedding(128, 128,input_length = X.shape[1]))\n",
    "    model.add(Bidirectional(LSTM(128, recurrent_dropout=0.2,dropout = 0.2)))\n",
    "    model.add(Dense(2,activation='sigmoid'))\n",
    "    model.compile(loss = 'categorical_crossentropy', optimizer='adam',metrics = ['accuracy'])\n",
    "    print(model.summary())\n",
    "    return model"
   ]
  },
  {
   "cell_type": "code",
   "execution_count": 28,
   "metadata": {},
   "outputs": [
    {
     "name": "stdout",
     "output_type": "stream",
     "text": [
      "Model: \"sequential_8\"\n",
      "_________________________________________________________________\n",
      "Layer (type)                 Output Shape              Param #   \n",
      "=================================================================\n",
      "embedding_6 (Embedding)      (None, 32, 128)           16384     \n",
      "_________________________________________________________________\n",
      "bidirectional_1 (Bidirection (None, 256)               263168    \n",
      "_________________________________________________________________\n",
      "dense_10 (Dense)             (None, 2)                 514       \n",
      "=================================================================\n",
      "Total params: 280,066\n",
      "Trainable params: 280,066\n",
      "Non-trainable params: 0\n",
      "_________________________________________________________________\n",
      "None\n",
      "Epoch 1/5\n",
      "34236/34236 [==============================] - 21s 607us/step - loss: 0.5564 - accuracy: 0.7486\n",
      "Epoch 2/5\n",
      "34236/34236 [==============================] - 20s 591us/step - loss: 0.5403 - accuracy: 0.7504\n",
      "Epoch 3/5\n",
      "34236/34236 [==============================] - 20s 591us/step - loss: 0.5372 - accuracy: 0.7538\n",
      "Epoch 4/5\n",
      "34236/34236 [==============================] - 20s 591us/step - loss: 0.5329 - accuracy: 0.7562\n",
      "Epoch 5/5\n",
      "34236/34236 [==============================] - 20s 591us/step - loss: 0.5323 - accuracy: 0.7562\n",
      "17118/17118 [==============================] - 3s 164us/step\n",
      "Model: \"sequential_9\"\n",
      "_________________________________________________________________\n",
      "Layer (type)                 Output Shape              Param #   \n",
      "=================================================================\n",
      "embedding_7 (Embedding)      (None, 32, 128)           16384     \n",
      "_________________________________________________________________\n",
      "bidirectional_2 (Bidirection (None, 256)               263168    \n",
      "_________________________________________________________________\n",
      "dense_11 (Dense)             (None, 2)                 514       \n",
      "=================================================================\n",
      "Total params: 280,066\n",
      "Trainable params: 280,066\n",
      "Non-trainable params: 0\n",
      "_________________________________________________________________\n",
      "None\n",
      "Epoch 1/5\n",
      "34236/34236 [==============================] - 21s 607us/step - loss: 0.5453 - accuracy: 0.7575\n",
      "Epoch 2/5\n",
      "34236/34236 [==============================] - 20s 591us/step - loss: 0.5293 - accuracy: 0.7592\n",
      "Epoch 3/5\n",
      "34236/34236 [==============================] - 20s 590us/step - loss: 0.5253 - accuracy: 0.7604\n",
      "Epoch 4/5\n",
      "34236/34236 [==============================] - 20s 592us/step - loss: 0.5212 - accuracy: 0.7636\n",
      "Epoch 5/5\n",
      "34236/34236 [==============================] - 20s 593us/step - loss: 0.5190 - accuracy: 0.7636\n",
      "17118/17118 [==============================] - 3s 165us/step\n",
      "Model: \"sequential_10\"\n",
      "_________________________________________________________________\n",
      "Layer (type)                 Output Shape              Param #   \n",
      "=================================================================\n",
      "embedding_8 (Embedding)      (None, 32, 128)           16384     \n",
      "_________________________________________________________________\n",
      "bidirectional_3 (Bidirection (None, 256)               263168    \n",
      "_________________________________________________________________\n",
      "dense_12 (Dense)             (None, 2)                 514       \n",
      "=================================================================\n",
      "Total params: 280,066\n",
      "Trainable params: 280,066\n",
      "Non-trainable params: 0\n",
      "_________________________________________________________________\n",
      "None\n",
      "Epoch 1/5\n",
      "34236/34236 [==============================] - 21s 608us/step - loss: 0.5620 - accuracy: 0.7417\n",
      "Epoch 2/5\n",
      "34236/34236 [==============================] - 20s 591us/step - loss: 0.5456 - accuracy: 0.7433\n",
      "Epoch 3/5\n",
      "34236/34236 [==============================] - 20s 592us/step - loss: 0.5409 - accuracy: 0.7484\n",
      "Epoch 4/5\n",
      "34236/34236 [==============================] - 20s 593us/step - loss: 0.5367 - accuracy: 0.7507\n",
      "Epoch 5/5\n",
      "34236/34236 [==============================] - 20s 593us/step - loss: 0.5352 - accuracy: 0.7501\n",
      "17118/17118 [==============================] - 3s 166us/step\n",
      "f1_micro: 0.76 (+/- 0.02)\n"
     ]
    }
   ],
   "source": [
    "clf_x = KerasClassifier(build_fn=mdl_rnn_bidir, epochs=5, batch_size=64, verbose=1)\n",
    "#使用n折交叉验证\n",
    "scores = cross_val_score(clf_x, X, stars, cv=3, scoring='f1_micro')\n",
    "# print scores\n",
    "print(\"f1_micro: %0.2f (+/- %0.2f)\" % (scores.mean(), scores.std() * 2))"
   ]
  },
  {
   "cell_type": "code",
   "execution_count": null,
   "metadata": {},
   "outputs": [],
   "source": []
  }
 ],
 "metadata": {
  "kernelspec": {
   "display_name": "Test",
   "language": "python",
   "name": "python3"
  },
  "language_info": {
   "codemirror_mode": {
    "name": "ipython",
    "version": 3
   },
   "file_extension": ".py",
   "mimetype": "text/x-python",
   "name": "python",
   "nbconvert_exporter": "python",
   "pygments_lexer": "ipython3",
   "version": "3.9.15 (main, Nov 24 2022, 14:39:17) [MSC v.1916 64 bit (AMD64)]"
  },
  "vscode": {
   "interpreter": {
    "hash": "05f248ac6ea7e2a4ce875aa9c7d60c1ce183b4a1b53d23d8eba1b0827ed6d365"
   }
  }
 },
 "nbformat": 4,
 "nbformat_minor": 2
}
